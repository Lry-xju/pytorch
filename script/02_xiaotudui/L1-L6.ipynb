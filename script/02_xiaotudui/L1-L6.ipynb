{
 "cells": [
  {
   "cell_type": "markdown",
   "id": "c0b86f56-e86e-48c6-b8e7-11db57ed90fd",
   "metadata": {},
   "source": [
    "##  https://www.bilibili.com/video/BV1hE411t7RN/?spm_id_from=333.337.search-card.all.click&vd_source=4e7e85224cecaeb5f93b59a4282cf660"
   ]
  },
  {
   "cell_type": "markdown",
   "id": "6ebbb2f0-296a-40c0-997c-3399b28ae095",
   "metadata": {},
   "source": []
  }
 ],
 "metadata": {
  "kernelspec": {
   "display_name": "Python (torch_cpu)",
   "language": "python",
   "name": "torch_cpu"
  },
  "language_info": {
   "codemirror_mode": {
    "name": "ipython",
    "version": 3
   },
   "file_extension": ".py",
   "mimetype": "text/x-python",
   "name": "python",
   "nbconvert_exporter": "python",
   "pygments_lexer": "ipython3",
   "version": "3.6.13"
  }
 },
 "nbformat": 4,
 "nbformat_minor": 5
}
